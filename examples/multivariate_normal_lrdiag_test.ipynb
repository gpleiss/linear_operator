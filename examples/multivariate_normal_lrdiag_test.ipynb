{
 "cells": [
  {
   "cell_type": "code",
   "execution_count": 1,
   "id": "8923d394",
   "metadata": {},
   "outputs": [],
   "source": [
    "import torch\n",
    "\n",
    "from linear_operator.operators import RootLinearOperator, DiagLinearOperator"
   ]
  },
  {
   "cell_type": "code",
   "execution_count": 2,
   "id": "edcff595",
   "metadata": {},
   "outputs": [],
   "source": [
    "root = torch.randn(5000, 10)\n",
    "root_lo = RootLinearOperator(root)"
   ]
  },
  {
   "cell_type": "code",
   "execution_count": 3,
   "id": "8221b13e",
   "metadata": {},
   "outputs": [],
   "source": [
    "diag = torch.rand(5000)\n",
    "diag_lo = DiagLinearOperator(diag)"
   ]
  },
  {
   "cell_type": "code",
   "execution_count": 4,
   "id": "e7f60639",
   "metadata": {},
   "outputs": [],
   "source": [
    "sum_lo = root_lo + diag_lo"
   ]
  },
  {
   "cell_type": "code",
   "execution_count": 5,
   "id": "04f34464",
   "metadata": {},
   "outputs": [
    {
     "data": {
      "text/plain": [
       "tensor([[ 8.4470,  0.4707,  2.9372,  ...,  3.7270,  6.0950,  4.3886],\n",
       "        [ 0.4707, 11.7690,  4.3348,  ..., -2.2922,  3.1082, -5.4692],\n",
       "        [ 2.9372,  4.3348,  9.2938,  ...,  0.9028, -0.0155, -0.3508],\n",
       "        ...,\n",
       "        [ 3.7270, -2.2922,  0.9028,  ..., 14.5677,  3.2758,  3.7564],\n",
       "        [ 6.0950,  3.1082, -0.0155,  ...,  3.2758,  9.3680,  1.5262],\n",
       "        [ 4.3886, -5.4692, -0.3508,  ...,  3.7564,  1.5262, 10.4140]])"
      ]
     },
     "execution_count": 5,
     "metadata": {},
     "output_type": "execute_result"
    }
   ],
   "source": [
    "sum_lo.to_dense()"
   ]
  },
  {
   "cell_type": "code",
   "execution_count": 6,
   "id": "b298e2db",
   "metadata": {},
   "outputs": [
    {
     "data": {
      "text/plain": [
       "tensor([[ 8.4470,  0.4707,  2.9372,  ...,  3.7270,  6.0950,  4.3886],\n",
       "        [ 0.4707, 11.7690,  4.3348,  ..., -2.2922,  3.1082, -5.4692],\n",
       "        [ 2.9372,  4.3348,  9.2938,  ...,  0.9028, -0.0155, -0.3508],\n",
       "        ...,\n",
       "        [ 3.7270, -2.2922,  0.9028,  ..., 14.5677,  3.2758,  3.7564],\n",
       "        [ 6.0950,  3.1082, -0.0155,  ...,  3.2758,  9.3680,  1.5262],\n",
       "        [ 4.3886, -5.4692, -0.3508,  ...,  3.7564,  1.5262, 10.4140]])"
      ]
     },
     "execution_count": 6,
     "metadata": {},
     "output_type": "execute_result"
    }
   ],
   "source": [
    "root_lo.to_dense() + diag_lo.to_dense()"
   ]
  },
  {
   "cell_type": "code",
   "execution_count": 7,
   "id": "7f7f90d3",
   "metadata": {},
   "outputs": [
    {
     "data": {
      "text/plain": [
       "<linear_operator.operators.low_rank_plus_diag_linear_operator.LowRankPlusDiagLinearOperator at 0x7fe37b31a3d0>"
      ]
     },
     "execution_count": 7,
     "metadata": {},
     "output_type": "execute_result"
    }
   ],
   "source": [
    "sum_lo"
   ]
  },
  {
   "cell_type": "code",
   "execution_count": 8,
   "id": "18f4856d",
   "metadata": {},
   "outputs": [],
   "source": [
    "rhs = torch.randn(diag.shape[0])"
   ]
  },
  {
   "cell_type": "markdown",
   "id": "401339e1",
   "metadata": {},
   "source": [
    "So, this cholesky is an unoptimized for loop currently. I'd assume that there's probably a LAPACK-style function instead of my python only for loop."
   ]
  },
  {
   "cell_type": "code",
   "execution_count": 9,
   "id": "d2b6114f",
   "metadata": {},
   "outputs": [
    {
     "name": "stdout",
     "output_type": "stream",
     "text": [
      "CPU times: user 1.29 s, sys: 170 ms, total: 1.46 s\n",
      "Wall time: 1.53 s\n"
     ]
    }
   ],
   "source": [
    "%time lazy_cholesky = sum_lo.cholesky()"
   ]
  },
  {
   "cell_type": "code",
   "execution_count": 10,
   "id": "2b4eb56b",
   "metadata": {},
   "outputs": [
    {
     "name": "stdout",
     "output_type": "stream",
     "text": [
      "CPU times: user 551 ms, sys: 8.49 ms, total: 559 ms\n",
      "Wall time: 579 ms\n"
     ]
    },
    {
     "name": "stderr",
     "output_type": "stream",
     "text": [
      "/Users/wesleymaddox/anaconda3/lib/python3.7/site-packages/ipykernel_launcher.py:1: UserWarning: torch.cholesky is deprecated in favor of torch.linalg.cholesky and will be removed in a future PyTorch release.\n",
      "L = torch.cholesky(A)\n",
      "should be replaced with\n",
      "L = torch.linalg.cholesky(A)\n",
      "and\n",
      "U = torch.cholesky(A, upper=True)\n",
      "should be replaced with\n",
      "U = torch.linalg.cholesky(A.transpose(-2, -1).conj()).transpose(-2, -1).conj() (Triggered internally at  /Users/distiller/project/conda/conda-bld/pytorch_1623459064158/work/aten/src/ATen/native/BatchLinearAlgebra.cpp:1284.)\n",
      "  \"\"\"Entry point for launching an IPython kernel.\n"
     ]
    }
   ],
   "source": [
    "dense_sum = sum_lo.to_dense()\n",
    "\n",
    "%time eager_cholesky = dense_sum.cholesky()"
   ]
  },
  {
   "cell_type": "code",
   "execution_count": 11,
   "id": "55d612ac",
   "metadata": {},
   "outputs": [
    {
     "data": {
      "text/plain": [
       "tensor(0.0113)"
      ]
     },
     "execution_count": 11,
     "metadata": {},
     "output_type": "execute_result"
    }
   ],
   "source": [
    "torch.norm(lazy_cholesky - eager_cholesky)"
   ]
  },
  {
   "cell_type": "markdown",
   "id": "b2450bd1",
   "metadata": {},
   "source": [
    "This is pretty accurate overall. The relative error is going to be much smaller.\n",
    "\n",
    "Just to ensure that I didn't actually do something weird."
   ]
  },
  {
   "cell_type": "code",
   "execution_count": 12,
   "id": "aa927059",
   "metadata": {},
   "outputs": [
    {
     "ename": "RuntimeError",
     "evalue": "cholesky: U(5000,5000) is zero, singular U.",
     "output_type": "error",
     "traceback": [
      "\u001b[0;31m---------------------------------------------------------------------------\u001b[0m",
      "\u001b[0;31mRuntimeError\u001b[0m                              Traceback (most recent call last)",
      "\u001b[0;32m<timed eval>\u001b[0m in \u001b[0;36m<module>\u001b[0;34m\u001b[0m\n",
      "\u001b[0;31mRuntimeError\u001b[0m: cholesky: U(5000,5000) is zero, singular U."
     ]
    }
   ],
   "source": [
    "a = torch.randn(diag.shape[0], diag.shape[0])\n",
    "%time (a.matmul(a.t())).cholesky()"
   ]
  },
  {
   "cell_type": "code",
   "execution_count": 18,
   "id": "246fac41",
   "metadata": {},
   "outputs": [],
   "source": [
    "from torch.distributions import MultivariateNormal"
   ]
  },
  {
   "cell_type": "code",
   "execution_count": 19,
   "id": "a45be33e",
   "metadata": {},
   "outputs": [],
   "source": [
    "mean = torch.zeros(diag.shape[0])"
   ]
  },
  {
   "cell_type": "markdown",
   "id": "6c2bb9bd",
   "metadata": {},
   "source": [
    "But, there's a speedup below when we get to re-use the caches as expected."
   ]
  },
  {
   "cell_type": "code",
   "execution_count": 20,
   "id": "c0f31c74",
   "metadata": {},
   "outputs": [],
   "source": [
    "def dist_and_log_prob(covar):\n",
    "    dist = MultivariateNormal(mean, covariance_matrix = covar)\n",
    "    return dist.log_prob(rhs)"
   ]
  },
  {
   "cell_type": "code",
   "execution_count": 21,
   "id": "9611045d",
   "metadata": {},
   "outputs": [
    {
     "name": "stdout",
     "output_type": "stream",
     "text": [
      "CPU times: user 28.1 ms, sys: 11.9 ms, total: 40 ms\n",
      "Wall time: 35.4 ms\n"
     ]
    },
    {
     "data": {
      "text/plain": [
       "tensor(-21202.5703)"
      ]
     },
     "execution_count": 21,
     "metadata": {},
     "output_type": "execute_result"
    }
   ],
   "source": [
    "%time dist_and_log_prob(sum_lo)"
   ]
  },
  {
   "cell_type": "code",
   "execution_count": 22,
   "id": "5971102d",
   "metadata": {},
   "outputs": [
    {
     "name": "stdout",
     "output_type": "stream",
     "text": [
      "CPU times: user 1.33 s, sys: 30.5 ms, total: 1.36 s\n",
      "Wall time: 1.26 s\n"
     ]
    },
    {
     "data": {
      "text/plain": [
       "tensor(-21200.1191)"
      ]
     },
     "execution_count": 22,
     "metadata": {},
     "output_type": "execute_result"
    }
   ],
   "source": [
    "\n",
    "%time dist_and_log_prob(dense_sum)"
   ]
  },
  {
   "cell_type": "code",
   "execution_count": null,
   "id": "067c05d8",
   "metadata": {},
   "outputs": [],
   "source": []
  },
  {
   "cell_type": "code",
   "execution_count": null,
   "id": "18588615",
   "metadata": {},
   "outputs": [],
   "source": []
  }
 ],
 "metadata": {
  "kernelspec": {
   "display_name": "Python 3.7.4 64-bit ('base': conda)",
   "language": "python",
   "name": "python37464bitbaseconda52eab690427c4f7ea56588deee120c46"
  },
  "language_info": {
   "codemirror_mode": {
    "name": "ipython",
    "version": 3
   },
   "file_extension": ".py",
   "mimetype": "text/x-python",
   "name": "python",
   "nbconvert_exporter": "python",
   "pygments_lexer": "ipython3",
   "version": "3.7.7"
  }
 },
 "nbformat": 4,
 "nbformat_minor": 5
}
