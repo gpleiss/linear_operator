{
 "cells": [
  {
   "cell_type": "code",
   "execution_count": 1,
   "id": "8923d394",
   "metadata": {},
   "outputs": [],
   "source": [
    "import torch\n",
    "\n",
    "from linear_operator.operators import RootLinearOperator, DiagLinearOperator"
   ]
  },
  {
   "cell_type": "code",
   "execution_count": 2,
   "id": "edcff595",
   "metadata": {},
   "outputs": [],
   "source": [
    "root = torch.randn(1500, 300)\n",
    "root_lo = RootLinearOperator(root)"
   ]
  },
  {
   "cell_type": "code",
   "execution_count": 3,
   "id": "8221b13e",
   "metadata": {},
   "outputs": [],
   "source": [
    "diag = torch.rand(1500)\n",
    "diag_lo = DiagLinearOperator(diag)"
   ]
  },
  {
   "cell_type": "code",
   "execution_count": 4,
   "id": "e7f60639",
   "metadata": {},
   "outputs": [],
   "source": [
    "sum_lo = root_lo + diag_lo"
   ]
  },
  {
   "cell_type": "code",
   "execution_count": 5,
   "id": "04f34464",
   "metadata": {},
   "outputs": [
    {
     "data": {
      "text/plain": [
       "tensor([[ 2.8139e+02, -5.8629e+01, -2.5748e-01,  ...,  1.3839e+01,\n",
       "         -4.2263e+00, -3.0929e+01],\n",
       "        [-5.8629e+01,  3.0433e+02,  1.2438e+01,  ..., -2.0872e+01,\n",
       "         -1.5603e+01,  2.1450e+01],\n",
       "        [-2.5748e-01,  1.2438e+01,  2.8209e+02,  ...,  1.8188e+01,\n",
       "         -3.2094e+00,  2.6696e+00],\n",
       "        ...,\n",
       "        [ 1.3839e+01, -2.0872e+01,  1.8188e+01,  ...,  2.8850e+02,\n",
       "          7.8028e+00, -5.2010e+00],\n",
       "        [-4.2263e+00, -1.5603e+01, -3.2094e+00,  ...,  7.8028e+00,\n",
       "          2.6911e+02, -6.0806e+00],\n",
       "        [-3.0929e+01,  2.1450e+01,  2.6696e+00,  ..., -5.2010e+00,\n",
       "         -6.0806e+00,  2.4189e+02]])"
      ]
     },
     "execution_count": 5,
     "metadata": {},
     "output_type": "execute_result"
    }
   ],
   "source": [
    "sum_lo.to_dense()"
   ]
  },
  {
   "cell_type": "code",
   "execution_count": 6,
   "id": "b298e2db",
   "metadata": {},
   "outputs": [
    {
     "data": {
      "text/plain": [
       "tensor([[ 2.8139e+02, -5.8629e+01, -2.5748e-01,  ...,  1.3839e+01,\n",
       "         -4.2263e+00, -3.0929e+01],\n",
       "        [-5.8629e+01,  3.0433e+02,  1.2438e+01,  ..., -2.0872e+01,\n",
       "         -1.5603e+01,  2.1450e+01],\n",
       "        [-2.5748e-01,  1.2438e+01,  2.8209e+02,  ...,  1.8188e+01,\n",
       "         -3.2094e+00,  2.6696e+00],\n",
       "        ...,\n",
       "        [ 1.3839e+01, -2.0872e+01,  1.8188e+01,  ...,  2.8850e+02,\n",
       "          7.8028e+00, -5.2010e+00],\n",
       "        [-4.2263e+00, -1.5603e+01, -3.2094e+00,  ...,  7.8028e+00,\n",
       "          2.6911e+02, -6.0806e+00],\n",
       "        [-3.0929e+01,  2.1450e+01,  2.6696e+00,  ..., -5.2010e+00,\n",
       "         -6.0806e+00,  2.4189e+02]])"
      ]
     },
     "execution_count": 6,
     "metadata": {},
     "output_type": "execute_result"
    }
   ],
   "source": [
    "root_lo.to_dense() + diag_lo.to_dense()"
   ]
  },
  {
   "cell_type": "code",
   "execution_count": 7,
   "id": "7f7f90d3",
   "metadata": {},
   "outputs": [
    {
     "data": {
      "text/plain": [
       "<linear_operator.operators.low_rank_plus_diag_linear_operator.LowRankPlusDiagLinearOperator at 0x7fad6d9ddb50>"
      ]
     },
     "execution_count": 7,
     "metadata": {},
     "output_type": "execute_result"
    }
   ],
   "source": [
    "sum_lo"
   ]
  },
  {
   "cell_type": "code",
   "execution_count": 8,
   "id": "18f4856d",
   "metadata": {},
   "outputs": [],
   "source": [
    "rhs = torch.randn(diag.shape[0])"
   ]
  },
  {
   "cell_type": "markdown",
   "id": "401339e1",
   "metadata": {},
   "source": [
    "So, this cholesky is an unoptimized for loop currently. I'd assume that there's probably a LAPACK-style function instead of my python only for loop."
   ]
  },
  {
   "cell_type": "code",
   "execution_count": 9,
   "id": "d2b6114f",
   "metadata": {},
   "outputs": [
    {
     "name": "stdout",
     "output_type": "stream",
     "text": [
      "CPU times: user 3.55 s, sys: 330 ms, total: 3.88 s\n",
      "Wall time: 3.77 s\n"
     ]
    }
   ],
   "source": [
    "%time lazy_cholesky = sum_lo.cholesky()"
   ]
  },
  {
   "cell_type": "code",
   "execution_count": 10,
   "id": "2b4eb56b",
   "metadata": {},
   "outputs": [
    {
     "name": "stdout",
     "output_type": "stream",
     "text": [
      "CPU times: user 21.7 ms, sys: 4.44 ms, total: 26.2 ms\n",
      "Wall time: 45.3 ms\n"
     ]
    },
    {
     "name": "stderr",
     "output_type": "stream",
     "text": [
      "/Users/wesleymaddox/anaconda3/lib/python3.7/site-packages/ipykernel_launcher.py:1: UserWarning: torch.cholesky is deprecated in favor of torch.linalg.cholesky and will be removed in a future PyTorch release.\n",
      "L = torch.cholesky(A)\n",
      "should be replaced with\n",
      "L = torch.linalg.cholesky(A)\n",
      "and\n",
      "U = torch.cholesky(A, upper=True)\n",
      "should be replaced with\n",
      "U = torch.linalg.cholesky(A.transpose(-2, -1).conj()).transpose(-2, -1).conj() (Triggered internally at  /Users/distiller/project/conda/conda-bld/pytorch_1623459064158/work/aten/src/ATen/native/BatchLinearAlgebra.cpp:1284.)\n",
      "  \"\"\"Entry point for launching an IPython kernel.\n"
     ]
    }
   ],
   "source": [
    "dense_sum = sum_lo.to_dense()\n",
    "\n",
    "%time eager_cholesky = dense_sum.cholesky()"
   ]
  },
  {
   "cell_type": "code",
   "execution_count": 11,
   "id": "55d612ac",
   "metadata": {},
   "outputs": [
    {
     "data": {
      "text/plain": [
       "tensor(0.0145)"
      ]
     },
     "execution_count": 11,
     "metadata": {},
     "output_type": "execute_result"
    }
   ],
   "source": [
    "torch.norm(lazy_cholesky - eager_cholesky)"
   ]
  },
  {
   "cell_type": "markdown",
   "id": "b2450bd1",
   "metadata": {},
   "source": [
    "This is pretty accurate overall. The relative error is going to be much smaller.\n",
    "\n",
    "Just to ensure that I didn't actually do something weird."
   ]
  },
  {
   "cell_type": "code",
   "execution_count": 12,
   "id": "aa927059",
   "metadata": {},
   "outputs": [
    {
     "name": "stdout",
     "output_type": "stream",
     "text": [
      "CPU times: user 87.9 ms, sys: 6.38 ms, total: 94.3 ms\n",
      "Wall time: 102 ms\n"
     ]
    },
    {
     "data": {
      "text/plain": [
       "tensor([[37.2424,  0.0000,  0.0000,  ...,  0.0000,  0.0000,  0.0000],\n",
       "        [ 0.2050, 39.2814,  0.0000,  ...,  0.0000,  0.0000,  0.0000],\n",
       "        [-1.4376, -1.5358, 38.1718,  ...,  0.0000,  0.0000,  0.0000],\n",
       "        ...,\n",
       "        [ 2.3922, -0.8449, -0.2205,  ...,  1.7147,  0.0000,  0.0000],\n",
       "        [-0.3170,  0.3606, -1.5902,  ...,  0.1500,  0.5359,  0.0000],\n",
       "        [-1.2030,  0.3276,  0.6875,  ...,  1.1023, -0.3045,  0.9772]])"
      ]
     },
     "execution_count": 12,
     "metadata": {},
     "output_type": "execute_result"
    }
   ],
   "source": [
    "a = torch.randn(diag.shape[0], diag.shape[0])\n",
    "%time (a.matmul(a.t())).cholesky()"
   ]
  },
  {
   "cell_type": "code",
   "execution_count": 13,
   "id": "246fac41",
   "metadata": {},
   "outputs": [],
   "source": [
    "from torch.distributions import MultivariateNormal"
   ]
  },
  {
   "cell_type": "code",
   "execution_count": 14,
   "id": "a45be33e",
   "metadata": {},
   "outputs": [],
   "source": [
    "mean = torch.zeros(diag.shape[0])"
   ]
  },
  {
   "cell_type": "markdown",
   "id": "6c2bb9bd",
   "metadata": {},
   "source": [
    "But, there's a speedup below when we get to re-use the caches as expected."
   ]
  },
  {
   "cell_type": "code",
   "execution_count": 15,
   "id": "c0f31c74",
   "metadata": {},
   "outputs": [],
   "source": [
    "def dist_and_log_prob(covar):\n",
    "    dist = MultivariateNormal(mean, covariance_matrix = covar)\n",
    "    return dist.log_prob(rhs)"
   ]
  },
  {
   "cell_type": "code",
   "execution_count": 16,
   "id": "9611045d",
   "metadata": {},
   "outputs": [
    {
     "name": "stdout",
     "output_type": "stream",
     "text": [
      "CPU times: user 4.81 ms, sys: 4.52 ms, total: 9.32 ms\n",
      "Wall time: 21 ms\n"
     ]
    },
    {
     "data": {
      "text/plain": [
       "tensor(-4165.1772)"
      ]
     },
     "execution_count": 16,
     "metadata": {},
     "output_type": "execute_result"
    }
   ],
   "source": [
    "%time dist_and_log_prob(sum_lo)"
   ]
  },
  {
   "cell_type": "code",
   "execution_count": 17,
   "id": "5971102d",
   "metadata": {},
   "outputs": [
    {
     "name": "stdout",
     "output_type": "stream",
     "text": [
      "CPU times: user 54.7 ms, sys: 9 ms, total: 63.7 ms\n",
      "Wall time: 60.5 ms\n"
     ]
    },
    {
     "data": {
      "text/plain": [
       "tensor(-4165.2920)"
      ]
     },
     "execution_count": 17,
     "metadata": {},
     "output_type": "execute_result"
    }
   ],
   "source": [
    "\n",
    "%time dist_and_log_prob(dense_sum)"
   ]
  },
  {
   "cell_type": "code",
   "execution_count": null,
   "id": "067c05d8",
   "metadata": {},
   "outputs": [],
   "source": []
  }
 ],
 "metadata": {
  "kernelspec": {
   "display_name": "Python 3.7.4 64-bit ('base': conda)",
   "language": "python",
   "name": "python37464bitbaseconda52eab690427c4f7ea56588deee120c46"
  },
  "language_info": {
   "codemirror_mode": {
    "name": "ipython",
    "version": 3
   },
   "file_extension": ".py",
   "mimetype": "text/x-python",
   "name": "python",
   "nbconvert_exporter": "python",
   "pygments_lexer": "ipython3",
   "version": "3.7.7"
  }
 },
 "nbformat": 4,
 "nbformat_minor": 5
}
