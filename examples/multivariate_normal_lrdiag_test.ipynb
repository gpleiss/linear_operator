{
 "cells": [
  {
   "cell_type": "code",
   "execution_count": 1,
   "id": "8923d394",
   "metadata": {},
   "outputs": [],
   "source": [
    "import torch\n",
    "\n",
    "from linear_operator.operators import RootLinearOperator, DiagLinearOperator"
   ]
  },
  {
   "cell_type": "code",
   "execution_count": 2,
   "id": "edcff595",
   "metadata": {},
   "outputs": [],
   "source": [
    "root = torch.randn(1500, 300)\n",
    "root_lo = RootLinearOperator(root)"
   ]
  },
  {
   "cell_type": "code",
   "execution_count": 3,
   "id": "8221b13e",
   "metadata": {},
   "outputs": [],
   "source": [
    "diag = torch.rand(1500)\n",
    "diag_lo = DiagLinearOperator(diag)"
   ]
  },
  {
   "cell_type": "code",
   "execution_count": 4,
   "id": "e7f60639",
   "metadata": {},
   "outputs": [],
   "source": [
    "sum_lo = root_lo + diag_lo"
   ]
  },
  {
   "cell_type": "code",
   "execution_count": 5,
   "id": "04f34464",
   "metadata": {},
   "outputs": [
    {
     "data": {
      "text/plain": [
       "tensor([[334.7018,   2.6060,   7.5849,  ...,   3.3292,  -9.6117,  -2.6092],\n",
       "        [  2.6060, 274.0935, -14.9300,  ...,  18.8053, -23.6799, -11.7659],\n",
       "        [  7.5849, -14.9300, 304.6841,  ..., -14.5315,  24.8336,  22.5867],\n",
       "        ...,\n",
       "        [  3.3292,  18.8053, -14.5315,  ..., 286.3884,  -0.9479, -22.3044],\n",
       "        [ -9.6117, -23.6799,  24.8336,  ...,  -0.9479, 285.7664,   4.3336],\n",
       "        [ -2.6092, -11.7659,  22.5867,  ..., -22.3044,   4.3336, 289.7219]])"
      ]
     },
     "execution_count": 5,
     "metadata": {},
     "output_type": "execute_result"
    }
   ],
   "source": [
    "sum_lo.to_dense()"
   ]
  },
  {
   "cell_type": "code",
   "execution_count": 6,
   "id": "b298e2db",
   "metadata": {},
   "outputs": [
    {
     "data": {
      "text/plain": [
       "tensor([[334.7018,   2.6060,   7.5849,  ...,   3.3292,  -9.6117,  -2.6092],\n",
       "        [  2.6060, 274.0935, -14.9300,  ...,  18.8053, -23.6799, -11.7659],\n",
       "        [  7.5849, -14.9300, 304.6841,  ..., -14.5315,  24.8336,  22.5867],\n",
       "        ...,\n",
       "        [  3.3292,  18.8053, -14.5315,  ..., 286.3884,  -0.9479, -22.3044],\n",
       "        [ -9.6117, -23.6799,  24.8336,  ...,  -0.9479, 285.7664,   4.3336],\n",
       "        [ -2.6092, -11.7659,  22.5867,  ..., -22.3044,   4.3336, 289.7219]])"
      ]
     },
     "execution_count": 6,
     "metadata": {},
     "output_type": "execute_result"
    }
   ],
   "source": [
    "root_lo.to_dense() + diag_lo.to_dense()"
   ]
  },
  {
   "cell_type": "code",
   "execution_count": 7,
   "id": "7f7f90d3",
   "metadata": {},
   "outputs": [
    {
     "data": {
      "text/plain": [
       "<linear_operator.operators.low_rank_plus_diag_linear_operator.LowRankPlusDiagLinearOperator at 0x7fb7396fa590>"
      ]
     },
     "execution_count": 7,
     "metadata": {},
     "output_type": "execute_result"
    }
   ],
   "source": [
    "sum_lo"
   ]
  },
  {
   "cell_type": "code",
   "execution_count": 8,
   "id": "18f4856d",
   "metadata": {},
   "outputs": [],
   "source": [
    "rhs = torch.randn(diag.shape[0])"
   ]
  },
  {
   "cell_type": "markdown",
   "id": "6748b237",
   "metadata": {},
   "source": [
    "So, this cholesky is an unoptimized for loop currently. I'd assume that there's probably a LAPACK-style function instead of my python only for loop."
   ]
  },
  {
   "cell_type": "code",
   "execution_count": 9,
   "id": "d2b6114f",
   "metadata": {},
   "outputs": [
    {
     "name": "stdout",
     "output_type": "stream",
     "text": [
      "CPU times: user 32.1 s, sys: 298 ms, total: 32.4 s\n",
      "Wall time: 32.5 s\n"
     ]
    }
   ],
   "source": [
    "%time lazy_cholesky = sum_lo.cholesky()"
   ]
  },
  {
   "cell_type": "code",
   "execution_count": 10,
   "id": "2b4eb56b",
   "metadata": {},
   "outputs": [
    {
     "name": "stdout",
     "output_type": "stream",
     "text": [
      "CPU times: user 22.9 ms, sys: 2.24 ms, total: 25.1 ms\n",
      "Wall time: 25.3 ms\n"
     ]
    },
    {
     "name": "stderr",
     "output_type": "stream",
     "text": [
      "/Users/wesleymaddox/anaconda3/lib/python3.7/site-packages/ipykernel_launcher.py:1: UserWarning: torch.cholesky is deprecated in favor of torch.linalg.cholesky and will be removed in a future PyTorch release.\n",
      "L = torch.cholesky(A)\n",
      "should be replaced with\n",
      "L = torch.linalg.cholesky(A)\n",
      "and\n",
      "U = torch.cholesky(A, upper=True)\n",
      "should be replaced with\n",
      "U = torch.linalg.cholesky(A.transpose(-2, -1).conj()).transpose(-2, -1).conj() (Triggered internally at  /Users/distiller/project/conda/conda-bld/pytorch_1623459064158/work/aten/src/ATen/native/BatchLinearAlgebra.cpp:1284.)\n",
      "  \"\"\"Entry point for launching an IPython kernel.\n"
     ]
    }
   ],
   "source": [
    "dense_sum = sum_lo.to_dense()\n",
    "\n",
    "%time eager_cholesky = dense_sum.cholesky()"
   ]
  },
  {
   "cell_type": "code",
   "execution_count": 11,
   "id": "f88f1e41",
   "metadata": {},
   "outputs": [
    {
     "data": {
      "text/plain": [
       "tensor(0.0136)"
      ]
     },
     "execution_count": 11,
     "metadata": {},
     "output_type": "execute_result"
    }
   ],
   "source": [
    "torch.norm(lazy_cholesky - eager_cholesky)"
   ]
  },
  {
   "cell_type": "markdown",
   "id": "6ed123db",
   "metadata": {},
   "source": [
    "This is pretty accurate overall. The relative error is going to be much smaller.\n",
    "\n",
    "Just to ensure that I didn't actually do something weird."
   ]
  },
  {
   "cell_type": "code",
   "execution_count": 12,
   "id": "aa927059",
   "metadata": {},
   "outputs": [
    {
     "name": "stdout",
     "output_type": "stream",
     "text": [
      "CPU times: user 85.2 ms, sys: 5.89 ms, total: 91.1 ms\n",
      "Wall time: 91.8 ms\n"
     ]
    },
    {
     "data": {
      "text/plain": [
       "tensor([[ 3.8059e+01,  0.0000e+00,  0.0000e+00,  ...,  0.0000e+00,\n",
       "          0.0000e+00,  0.0000e+00],\n",
       "        [-4.7665e-01,  3.8670e+01,  0.0000e+00,  ...,  0.0000e+00,\n",
       "          0.0000e+00,  0.0000e+00],\n",
       "        [ 7.1737e-01,  8.5909e-02,  3.8566e+01,  ...,  0.0000e+00,\n",
       "          0.0000e+00,  0.0000e+00],\n",
       "        ...,\n",
       "        [-2.9369e-01,  2.0791e-01,  4.1217e-01,  ...,  2.5676e-01,\n",
       "          0.0000e+00,  0.0000e+00],\n",
       "        [-1.1586e+00,  1.0562e+00,  3.3495e-01,  ..., -5.3565e-01,\n",
       "          1.6429e+00,  0.0000e+00],\n",
       "        [ 5.9293e-02, -1.3554e+00, -2.0754e+00,  ..., -1.7443e+00,\n",
       "          7.1475e-03,  5.4692e-01]])"
      ]
     },
     "execution_count": 12,
     "metadata": {},
     "output_type": "execute_result"
    }
   ],
   "source": [
    "a = torch.randn(diag.shape[0], diag.shape[0])\n",
    "%time (a.matmul(a.t())).cholesky()"
   ]
  },
  {
   "cell_type": "code",
   "execution_count": 13,
   "id": "246fac41",
   "metadata": {},
   "outputs": [],
   "source": [
    "from torch.distributions import MultivariateNormal"
   ]
  },
  {
   "cell_type": "code",
   "execution_count": 14,
   "id": "a45be33e",
   "metadata": {},
   "outputs": [],
   "source": [
    "mean = torch.zeros(diag.shape[0])"
   ]
  },
  {
   "cell_type": "markdown",
   "id": "1e21ec3f",
   "metadata": {},
   "source": [
    "But, there's a speedup below when we get to re-use the caches as expected."
   ]
  },
  {
   "cell_type": "code",
   "execution_count": 15,
   "id": "16a9610f",
   "metadata": {},
   "outputs": [],
   "source": [
    "def dist_and_log_prob(covar):\n",
    "    dist = MultivariateNormal(mean, covariance_matrix = covar)\n",
    "    return dist.log_prob(rhs)"
   ]
  },
  {
   "cell_type": "code",
   "execution_count": 16,
   "id": "9611045d",
   "metadata": {},
   "outputs": [
    {
     "name": "stdout",
     "output_type": "stream",
     "text": [
      "CPU times: user 11.7 ms, sys: 2.82 ms, total: 14.5 ms\n",
      "Wall time: 11.1 ms\n"
     ]
    },
    {
     "data": {
      "text/plain": [
       "tensor(-3976.6140)"
      ]
     },
     "execution_count": 16,
     "metadata": {},
     "output_type": "execute_result"
    }
   ],
   "source": [
    "%time dist_and_log_prob(sum_lo)"
   ]
  },
  {
   "cell_type": "code",
   "execution_count": 17,
   "id": "5971102d",
   "metadata": {},
   "outputs": [
    {
     "name": "stdout",
     "output_type": "stream",
     "text": [
      "CPU times: user 47 ms, sys: 8.36 ms, total: 55.3 ms\n",
      "Wall time: 50.2 ms\n"
     ]
    },
    {
     "data": {
      "text/plain": [
       "tensor(-3976.2256)"
      ]
     },
     "execution_count": 17,
     "metadata": {},
     "output_type": "execute_result"
    }
   ],
   "source": [
    "\n",
    "%time dist_and_log_prob(dense_sum)"
   ]
  },
  {
   "cell_type": "code",
   "execution_count": null,
   "id": "afcdb5b1",
   "metadata": {},
   "outputs": [],
   "source": []
  }
 ],
 "metadata": {
  "kernelspec": {
   "display_name": "Python 3.7.4 64-bit ('base': conda)",
   "language": "python",
   "name": "python37464bitbaseconda52eab690427c4f7ea56588deee120c46"
  },
  "language_info": {
   "codemirror_mode": {
    "name": "ipython",
    "version": 3
   },
   "file_extension": ".py",
   "mimetype": "text/x-python",
   "name": "python",
   "nbconvert_exporter": "python",
   "pygments_lexer": "ipython3",
   "version": "3.7.7"
  }
 },
 "nbformat": 4,
 "nbformat_minor": 5
}
